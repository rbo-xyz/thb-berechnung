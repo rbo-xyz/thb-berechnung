{
 "cells": [
  {
   "cell_type": "markdown",
   "id": "a99e624a",
   "metadata": {},
   "source": [
    "# Trigonometrische Höhenbestimmung\n",
    "## Automatische Auswertung Madrisa\n",
    "\n",
    "Ein Programm von Kamm M. und Boppart R. (G2023)\n",
    "\n",
    "Dieses Jupyter Notebook ist nur dazu da, um die Automatische Auswertung der THB-Mesungen aus dem Feldkurs zu bewerkstelligen. Das Skript ist nur auf dem Master-PC lauffähig"
   ]
  },
  {
   "cell_type": "markdown",
   "id": "3c1dc885",
   "metadata": {},
   "source": [
    "### 1. Import and utils (nicht bearbeiten / aber ausführen)\n"
   ]
  },
  {
   "cell_type": "code",
   "execution_count": 1,
   "id": "b95ab900",
   "metadata": {},
   "outputs": [],
   "source": [
    "## Autoreloader für JupyterNotebook // Dev-Mode\n",
    "%load_ext autoreload\n",
    "%autoreload 2\n",
    "\n",
    "## Bibliotheken importieren\n",
    "from pathlib import Path\n",
    "from utils.auto import auto_auswertung2025\n",
    "\n",
    "## Settings für die Anzeige von DataFrames in JupyterNotebooks\n",
    "import pandas as pd\n",
    "pd.set_option(\"display.float_format\", \"{:.4f}\".format)"
   ]
  },
  {
   "cell_type": "markdown",
   "id": "0371272c",
   "metadata": {},
   "source": [
    "### 2. Einzelasuwertung einer Visur"
   ]
  },
  {
   "cell_type": "markdown",
   "id": "d09813a0",
   "metadata": {},
   "source": [
    "#### 2.1. Setzen der Projektvariabeln"
   ]
  },
  {
   "cell_type": "code",
   "execution_count": 2,
   "id": "fd4ea2df",
   "metadata": {},
   "outputs": [],
   "source": [
    "## Basispfad der Messdaten / Speicherort\n",
    "base_path = Path(r\"C:\\Users\\r.boppart\\FHNW\\E-BSc Feldkurs 2025 - VP 5220 GeoSensorik&Monitoring_M365 - Madrisa\\500_Auswertung\\10_THB-Messungen\\Auswertung_Python\")\n",
    "\n",
    "## Setze Index, welche Messung ausgewertet werden soll [Range 0-11]\n",
    "index = 0\n",
    "\n",
    "## Pfaddefinition Näherungskoordinaten und Instrumentenparameter\n",
    "fix = \"./test_data/20250919_Naeherungskoord-THB.txt\"\n",
    "InstrHoehe = \"./test_data/20250918_InstrHoehe.csv\""
   ]
  },
  {
   "cell_type": "markdown",
   "id": "097568f9",
   "metadata": {},
   "source": [
    "#### 2.2. Berechnung und Speicherung der Visur"
   ]
  },
  {
   "cell_type": "code",
   "execution_count": 3,
   "id": "587b7619",
   "metadata": {},
   "outputs": [],
   "source": [
    "auto_auswertung2025(index, base_path, InstrHoehe, fix)"
   ]
  },
  {
   "cell_type": "markdown",
   "id": "dee19bff",
   "metadata": {},
   "source": [
    "### 3. Automatische Auswertung aller Messungen - Feldkurs 2025"
   ]
  },
  {
   "cell_type": "markdown",
   "id": "1b53d79f",
   "metadata": {},
   "source": [
    "#### 3.1. Setzen der Projektvariabeln"
   ]
  },
  {
   "cell_type": "code",
   "execution_count": 2,
   "id": "3466068c",
   "metadata": {},
   "outputs": [],
   "source": [
    "## Basispfad der Messdaten / Speicherort\n",
    "base_path = Path(r\"C:\\Users\\r.boppart\\FHNW\\E-BSc Feldkurs 2025 - VP 5220 GeoSensorik&Monitoring_M365 - Madrisa\\500_Auswertung\\10_THB-Messungen\\Auswertung_Python\")\n",
    "\n",
    "## Pfaddefinition Näherungskoordinaten und Instrumentenparameter\n",
    "fix = \"./test_data/20250919_Naeherungskoord-THB.txt\"\n",
    "InstrHoehe = \"./test_data/20250918_InstrHoehe.csv\""
   ]
  },
  {
   "cell_type": "markdown",
   "id": "dcd7b1c2",
   "metadata": {},
   "source": [
    "#### 3.2. Automatische Auswertung"
   ]
  },
  {
   "cell_type": "code",
   "execution_count": 3,
   "id": "228dd228",
   "metadata": {},
   "outputs": [],
   "source": [
    "for i in range(12):\n",
    "    auto_auswertung2025(i, base_path, InstrHoehe, fix)\n",
    "    "
   ]
  }
 ],
 "metadata": {
  "kernelspec": {
   "display_name": "5220VP1_GeoSensMonitoring_py310",
   "language": "python",
   "name": "python3"
  },
  "language_info": {
   "codemirror_mode": {
    "name": "ipython",
    "version": 3
   },
   "file_extension": ".py",
   "mimetype": "text/x-python",
   "name": "python",
   "nbconvert_exporter": "python",
   "pygments_lexer": "ipython3",
   "version": "3.10.18"
  }
 },
 "nbformat": 4,
 "nbformat_minor": 5
}
