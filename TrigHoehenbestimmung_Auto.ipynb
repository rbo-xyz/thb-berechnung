{
 "cells": [
  {
   "cell_type": "markdown",
   "id": "a99e624a",
   "metadata": {},
   "source": [
    "# Trigonometrische Höhenbestimmung\n",
    "## Automatische Auswertung Madrisa\n",
    "\n",
    "Ein Programm von Kamm M. und Boppart R. (G2023)"
   ]
  },
  {
   "cell_type": "markdown",
   "id": "2510120a",
   "metadata": {},
   "source": [
    "## 1. Automatische Auswertung einer Visur\n"
   ]
  },
  {
   "cell_type": "markdown",
   "id": "3c1dc885",
   "metadata": {},
   "source": [
    "### 1.1. Import and utils (nicht bearbeiten / aber ausführen)\n"
   ]
  },
  {
   "cell_type": "code",
   "execution_count": 2,
   "id": "b95ab900",
   "metadata": {},
   "outputs": [],
   "source": [
    "%load_ext autoreload\n",
    "\n",
    "%autoreload 2"
   ]
  },
  {
   "cell_type": "code",
   "execution_count": 14,
   "id": "117a8a5b",
   "metadata": {},
   "outputs": [],
   "source": [
    "from utils.imports import import_csv, import_fix\n",
    "from utils.calculate import master_thb\n",
    "from utils.exports import export_protocol\n",
    "\n",
    "from pathlib import Path\n",
    "\n",
    "## Settings für die Anzeige von DataFrames\n",
    "import pandas as pd\n",
    "pd.set_option(\"display.float_format\", \"{:.4f}\".format)"
   ]
  },
  {
   "cell_type": "code",
   "execution_count": 15,
   "id": "1418a573",
   "metadata": {},
   "outputs": [],
   "source": [
    "# Basis-Pfad als Path-Objekt\n",
    "base_path = Path(r\"C:\\Users\\r.boppart\\FHNW\\E-BSc Feldkurs 2025 - VP 5220 GeoSensorik&Monitoring_M365 - Madrisa\\500_Auswertung\\10_THB-Messungen\\_data\")\n",
    "\n",
    "csv_first = []\n",
    "csv_second = []\n",
    "parent_folders = []\n",
    "folder_paths = []\n",
    "\n",
    "# Iteriere über alle Unterordner\n",
    "for folder in sorted([f for f in base_path.iterdir() if f.is_dir()]):\n",
    "    csv_files = sorted([f for f in folder.glob(\"*.csv\")])\n",
    "    \n",
    "    if len(csv_files) >= 2:\n",
    "        csv_first.append(str(csv_files[0]))\n",
    "        csv_second.append(str(csv_files[1]))\n",
    "        parent_folders.append(folder.name)       # Ordnername\n",
    "        folder_paths.append(str(folder))         # Pfad des Ordners\n",
    "    else:\n",
    "        print(f\"Warnung: Weniger als 2 CSV-Dateien in {folder.name}\")\n"
   ]
  },
  {
   "cell_type": "markdown",
   "id": "5c014c3c",
   "metadata": {},
   "source": [
    "### 1.1. Setzen der Projektvariabeln"
   ]
  },
  {
   "cell_type": "code",
   "execution_count": 5,
   "id": "57d45716",
   "metadata": {},
   "outputs": [
    {
     "name": "stdout",
     "output_type": "stream",
     "text": [
      "Es wurden 12 Visuren gefunden. // Der Range der Indizies sind 0 bis 11.\n"
     ]
    }
   ],
   "source": [
    "## Maximale Anzahl der Visuren // Nur für Info\n",
    "max_index = len(csv_first)-1\n",
    "\n",
    "print(f\"Es wurden {max_index+1} Visuren gefunden. // Der Range der Indizies sind 0 bis {max_index}.\")"
   ]
  },
  {
   "cell_type": "markdown",
   "id": "c6a811e3",
   "metadata": {},
   "source": [
    "#### 1.1.2. Stationsvariablen"
   ]
  },
  {
   "cell_type": "code",
   "execution_count": 6,
   "id": "0efd026e",
   "metadata": {},
   "outputs": [],
   "source": [
    "## Index der Visuren // Anpassen gemäss Wunsch // Range gemäss oberer Ausgabe\n",
    "index = 0"
   ]
  },
  {
   "cell_type": "markdown",
   "id": "0ef19e15",
   "metadata": {},
   "source": [
    "### 1.1.3. Setzen der automatischen Variabeln (nicht bearbeiten / aber ausführen)"
   ]
  },
  {
   "cell_type": "code",
   "execution_count": 8,
   "id": "546c9aad",
   "metadata": {},
   "outputs": [
    {
     "name": "stdout",
     "output_type": "stream",
     "text": [
      "Verarbeite Visur: Visur_1003-1009\n"
     ]
    }
   ],
   "source": [
    "## Let the magic begin\n",
    "mess1_A2B = csv_first[index]\n",
    "mess2_B2A = csv_second[index]\n",
    "\n",
    "path_protokoll = folder_paths[index]\n",
    "\n",
    "visurnummer = parent_folders[index]\n",
    "\n",
    "fix = \"./test_data/naehrkoord.txt\"\n",
    "\n",
    "print(f\"Verarbeite Visur: {visurnummer}\")"
   ]
  },
  {
   "cell_type": "code",
   "execution_count": 10,
   "id": "e9b1779c",
   "metadata": {},
   "outputs": [],
   "source": [
    "## Vergabe der Variabeln der Stationen / Station A ist immer die Station, welche die tiefer Punktnummer besitzt\n",
    "# Eine Liste nach Visur und indizes ist nachher aufgeführt. Welche Visur gerade bearbeitet wird, wird oben angezeigt\n",
    "signalhoehe_A = 1.6804\n",
    "offset_A = 0.2682\n",
    "\n",
    "signalhoehe_B = 1.8494\n",
    "offset_B = 0.2844\n",
    "\n",
    "## Die Offset der einzelnen Messgruppe (iykyk)\n",
    "# Bären: 0.2844\n",
    "# Schneehasen: 0.2844\n",
    "# Steinbock: 0.2682\n",
    "\n",
    "data = [signalhoehe_A, offset_A, signalhoehe_B, offset_B]"
   ]
  },
  {
   "cell_type": "code",
   "execution_count": 11,
   "id": "310ca970",
   "metadata": {},
   "outputs": [],
   "source": [
    "### Hier sind die Parameter der jeweiligen Messung einzutragen ###\n",
    "#<-------------------------------------------->\n",
    "# Index 0 (Visur 1003-1009)\n",
    "# signalhoehe_A = 1.6804\n",
    "# offset_A = 0.2682\n",
    "# signalhoehe_B = 1.8494\n",
    "# offset_B = 0.2844\n",
    "#<-------------------------------------------->\n",
    "# Index 1 (Visur 1003-1013)\n",
    "# signalhoehe_A = 1.6804\n",
    "# offset_A = 0.2682\n",
    "# signalhoehe_B = 2.0122\n",
    "# offset_B = 0.2844\n",
    "#<-------------------------------------------->\n",
    "# Index 2 (Visur 1009-1010)\n",
    "# signalhoehe_A = 1.8458\n",
    "# offset_A = 0.2844\n",
    "# signalhoehe_B = 1.835\n",
    "# offset_B = 0.2844\n",
    "#<-------------------------------------------->\n",
    "# Index 3 (Visur 1009-1011)\n",
    "# signalhoehe_A = 1.8458\n",
    "# offset_A = 0.2844\n",
    "# signalhoehe_B = 1.7844\n",
    "# offset_B = 0.2682\n",
    "#<-------------------------------------------->\n",
    "# Index 4 (Visur 1009-1014)\n",
    "# signalhoehe_A = 1.8494\n",
    "# offset_A = 0.2844\n",
    "# signalhoehe_B = 1.5422\n",
    "# offset_B = 0.2844\n",
    "#<-------------------------------------------->\n",
    "# Index 5 (Visur 1010-1011)\n",
    "# signalhoehe_A = 1.835\n",
    "# offset_A = 0.2844\n",
    "# signalhoehe_B = 1.7834\n",
    "# offset_B = 0.2682\n",
    "#<-------------------------------------------->\n",
    "# Index 6 (Visur 1010-1012)\n",
    "# signalhoehe_A = 1.835\n",
    "# offset_A = 0.2844\n",
    "# signalhoehe_B = 1.6171\n",
    "# offset_B = 0.2844\n",
    "#<-------------------------------------------->\n",
    "# Index 7 (Visur 1010-1015)\n",
    "# signalhoehe_A = 1.7479\n",
    "# offset_A = 0.2844\n",
    "# signalhoehe_B = 1.9602\n",
    "# offset_B = 0.2844\n",
    "#<-------------------------------------------->\n",
    "# Index 8 (Visur 1011-1012)\n",
    "# signalhoehe_A = 1.7834\n",
    "# offset_A = 0.2682\n",
    "# signalhoehe_B = 1.6171\n",
    "# offset_B = 0.2844\n",
    "#<-------------------------------------------->\n",
    "# Index 9 (Visur 1011-1014)\n",
    "# signalhoehe_A = 1.7834\n",
    "# offset_A = 0.2682\n",
    "# signalhoehe_B = 1.8616\n",
    "# offset_B = 0.2844\n",
    "#<-------------------------------------------->\n",
    "# Index 10 (Visur 1013-11773210)\n",
    "# signalhoehe_A = 2.0122\n",
    "# offset_A = 0.2844\n",
    "# signalhoehe_B = 1.9384\n",
    "# offset_B = 0.2844\n",
    "#<-------------------------------------------->\n",
    "# Index 11 (Visur 1015-11773210)\n",
    "# signalhoehe_A = 2.0122\n",
    "# offset_A = 0.2844\n",
    "# signalhoehe_B = 1.9602\n",
    "# offset_B = 0.2844"
   ]
  },
  {
   "cell_type": "markdown",
   "id": "741c8864",
   "metadata": {},
   "source": [
    "### 1.2. Berechnungen (nicht bearbeiten / nur ausführen und df evtl kontrollieren)"
   ]
  },
  {
   "cell_type": "code",
   "execution_count": 12,
   "id": "ca59b322",
   "metadata": {},
   "outputs": [
    {
     "data": {
      "application/vnd.microsoft.datawrangler.viewer.v0+json": {
       "columns": [
        {
         "name": "index",
         "rawType": "int64",
         "type": "integer"
        },
        {
         "name": "ID Messung",
         "rawType": "object",
         "type": "string"
        },
        {
         "name": "Schrägdistanz A -- > B [m]",
         "rawType": "float64",
         "type": "float"
        },
        {
         "name": "Schrägdistanz B -- > A [m]",
         "rawType": "float64",
         "type": "float"
        },
        {
         "name": "Mittlere Schrägdistanz [m]",
         "rawType": "float64",
         "type": "float"
        },
        {
         "name": "Höhendifferenz [m]",
         "rawType": "float64",
         "type": "float"
        },
        {
         "name": "Refraktionskoeffizient k",
         "rawType": "float64",
         "type": "float"
        }
       ],
       "ref": "720b8002-4320-4079-8bc4-9366757bc3a9",
       "rows": [
        [
         "0",
         "1-1.1",
         "2494.3343",
         "2494.333",
         "2494.3337",
         "187.5035",
         "0.03"
        ],
        [
         "1",
         "1-1.2",
         "2494.3349",
         "2494.333",
         "2494.334",
         "187.5023",
         "0.03"
        ],
        [
         "2",
         "1-1.3",
         "2494.3351",
         "2494.3328",
         "2494.334",
         "187.4961",
         "0.01"
        ],
        [
         "3",
         "1-2.1",
         "2494.3321",
         "2494.333",
         "2494.3325",
         "187.4829",
         "0.11"
        ],
        [
         "4",
         "1-2.2",
         "2494.3328",
         "2494.3336",
         "2494.3332",
         "187.4874",
         "0.1"
        ],
        [
         "5",
         "1-2.3",
         "2494.3328",
         "2494.3342",
         "2494.3335",
         "187.4921",
         "0.09"
        ],
        [
         "6",
         "2-1.1",
         "2494.3346",
         "2494.3344",
         "2494.3345",
         "187.5246",
         "-0.08"
        ],
        [
         "7",
         "2-1.2",
         "2494.3345",
         "2494.334",
         "2494.3343",
         "187.4891",
         "-0.03"
        ],
        [
         "8",
         "2-1.3",
         "2494.3343",
         "2494.3334",
         "2494.3339",
         "187.4965",
         "-0.03"
        ],
        [
         "9",
         "2-2.1",
         "2494.3286",
         "2494.3337",
         "2494.3311",
         "187.4818",
         "0.1"
        ],
        [
         "10",
         "2-2.2",
         "2494.3297",
         "2494.3342",
         "2494.3319",
         "187.4658",
         "0.06"
        ],
        [
         "11",
         "2-2.3",
         "2494.3294",
         "2494.3337",
         "2494.3315",
         "187.4658",
         "0.05"
        ],
        [
         "12",
         "3-1.1",
         "2494.3333",
         "2494.3319",
         "2494.3326",
         "187.5247",
         "0.02"
        ],
        [
         "13",
         "3-1.2",
         "2494.3336",
         "2494.3319",
         "2494.3328",
         "187.527",
         "0.01"
        ],
        [
         "14",
         "3-1.3",
         "2494.3335",
         "2494.3322",
         "2494.3329",
         "187.5099",
         "0.05"
        ],
        [
         "15",
         "3-2.1",
         "2494.3325",
         "2494.3326",
         "2494.3325",
         "187.4893",
         "0.07"
        ],
        [
         "16",
         "3-2.2",
         "2494.3323",
         "2494.3325",
         "2494.3324",
         "187.4909",
         "0.07"
        ],
        [
         "17",
         "3-2.3",
         "2494.3318",
         "2494.3329",
         "2494.3323",
         "187.4944",
         "0.07"
        ]
       ],
       "shape": {
        "columns": 6,
        "rows": 18
       }
      },
      "text/html": [
       "<div>\n",
       "<style scoped>\n",
       "    .dataframe tbody tr th:only-of-type {\n",
       "        vertical-align: middle;\n",
       "    }\n",
       "\n",
       "    .dataframe tbody tr th {\n",
       "        vertical-align: top;\n",
       "    }\n",
       "\n",
       "    .dataframe thead th {\n",
       "        text-align: right;\n",
       "    }\n",
       "</style>\n",
       "<table border=\"1\" class=\"dataframe\">\n",
       "  <thead>\n",
       "    <tr style=\"text-align: right;\">\n",
       "      <th></th>\n",
       "      <th>ID Messung</th>\n",
       "      <th>Schrägdistanz A -- &gt; B [m]</th>\n",
       "      <th>Schrägdistanz B -- &gt; A [m]</th>\n",
       "      <th>Mittlere Schrägdistanz [m]</th>\n",
       "      <th>Höhendifferenz [m]</th>\n",
       "      <th>Refraktionskoeffizient k</th>\n",
       "    </tr>\n",
       "  </thead>\n",
       "  <tbody>\n",
       "    <tr>\n",
       "      <th>0</th>\n",
       "      <td>1-1.1</td>\n",
       "      <td>2494.3343</td>\n",
       "      <td>2494.3330</td>\n",
       "      <td>2494.3337</td>\n",
       "      <td>187.5035</td>\n",
       "      <td>0.0300</td>\n",
       "    </tr>\n",
       "    <tr>\n",
       "      <th>1</th>\n",
       "      <td>1-1.2</td>\n",
       "      <td>2494.3349</td>\n",
       "      <td>2494.3330</td>\n",
       "      <td>2494.3340</td>\n",
       "      <td>187.5023</td>\n",
       "      <td>0.0300</td>\n",
       "    </tr>\n",
       "    <tr>\n",
       "      <th>2</th>\n",
       "      <td>1-1.3</td>\n",
       "      <td>2494.3351</td>\n",
       "      <td>2494.3328</td>\n",
       "      <td>2494.3340</td>\n",
       "      <td>187.4961</td>\n",
       "      <td>0.0100</td>\n",
       "    </tr>\n",
       "    <tr>\n",
       "      <th>3</th>\n",
       "      <td>1-2.1</td>\n",
       "      <td>2494.3321</td>\n",
       "      <td>2494.3330</td>\n",
       "      <td>2494.3325</td>\n",
       "      <td>187.4829</td>\n",
       "      <td>0.1100</td>\n",
       "    </tr>\n",
       "    <tr>\n",
       "      <th>4</th>\n",
       "      <td>1-2.2</td>\n",
       "      <td>2494.3328</td>\n",
       "      <td>2494.3336</td>\n",
       "      <td>2494.3332</td>\n",
       "      <td>187.4874</td>\n",
       "      <td>0.1000</td>\n",
       "    </tr>\n",
       "    <tr>\n",
       "      <th>5</th>\n",
       "      <td>1-2.3</td>\n",
       "      <td>2494.3328</td>\n",
       "      <td>2494.3342</td>\n",
       "      <td>2494.3335</td>\n",
       "      <td>187.4921</td>\n",
       "      <td>0.0900</td>\n",
       "    </tr>\n",
       "    <tr>\n",
       "      <th>6</th>\n",
       "      <td>2-1.1</td>\n",
       "      <td>2494.3346</td>\n",
       "      <td>2494.3344</td>\n",
       "      <td>2494.3345</td>\n",
       "      <td>187.5246</td>\n",
       "      <td>-0.0800</td>\n",
       "    </tr>\n",
       "    <tr>\n",
       "      <th>7</th>\n",
       "      <td>2-1.2</td>\n",
       "      <td>2494.3345</td>\n",
       "      <td>2494.3340</td>\n",
       "      <td>2494.3343</td>\n",
       "      <td>187.4891</td>\n",
       "      <td>-0.0300</td>\n",
       "    </tr>\n",
       "    <tr>\n",
       "      <th>8</th>\n",
       "      <td>2-1.3</td>\n",
       "      <td>2494.3343</td>\n",
       "      <td>2494.3334</td>\n",
       "      <td>2494.3339</td>\n",
       "      <td>187.4965</td>\n",
       "      <td>-0.0300</td>\n",
       "    </tr>\n",
       "    <tr>\n",
       "      <th>9</th>\n",
       "      <td>2-2.1</td>\n",
       "      <td>2494.3286</td>\n",
       "      <td>2494.3337</td>\n",
       "      <td>2494.3311</td>\n",
       "      <td>187.4818</td>\n",
       "      <td>0.1000</td>\n",
       "    </tr>\n",
       "    <tr>\n",
       "      <th>10</th>\n",
       "      <td>2-2.2</td>\n",
       "      <td>2494.3297</td>\n",
       "      <td>2494.3342</td>\n",
       "      <td>2494.3319</td>\n",
       "      <td>187.4658</td>\n",
       "      <td>0.0600</td>\n",
       "    </tr>\n",
       "    <tr>\n",
       "      <th>11</th>\n",
       "      <td>2-2.3</td>\n",
       "      <td>2494.3294</td>\n",
       "      <td>2494.3337</td>\n",
       "      <td>2494.3315</td>\n",
       "      <td>187.4658</td>\n",
       "      <td>0.0500</td>\n",
       "    </tr>\n",
       "    <tr>\n",
       "      <th>12</th>\n",
       "      <td>3-1.1</td>\n",
       "      <td>2494.3333</td>\n",
       "      <td>2494.3319</td>\n",
       "      <td>2494.3326</td>\n",
       "      <td>187.5247</td>\n",
       "      <td>0.0200</td>\n",
       "    </tr>\n",
       "    <tr>\n",
       "      <th>13</th>\n",
       "      <td>3-1.2</td>\n",
       "      <td>2494.3336</td>\n",
       "      <td>2494.3319</td>\n",
       "      <td>2494.3328</td>\n",
       "      <td>187.5270</td>\n",
       "      <td>0.0100</td>\n",
       "    </tr>\n",
       "    <tr>\n",
       "      <th>14</th>\n",
       "      <td>3-1.3</td>\n",
       "      <td>2494.3335</td>\n",
       "      <td>2494.3322</td>\n",
       "      <td>2494.3329</td>\n",
       "      <td>187.5099</td>\n",
       "      <td>0.0500</td>\n",
       "    </tr>\n",
       "    <tr>\n",
       "      <th>15</th>\n",
       "      <td>3-2.1</td>\n",
       "      <td>2494.3325</td>\n",
       "      <td>2494.3326</td>\n",
       "      <td>2494.3325</td>\n",
       "      <td>187.4893</td>\n",
       "      <td>0.0700</td>\n",
       "    </tr>\n",
       "    <tr>\n",
       "      <th>16</th>\n",
       "      <td>3-2.2</td>\n",
       "      <td>2494.3323</td>\n",
       "      <td>2494.3325</td>\n",
       "      <td>2494.3324</td>\n",
       "      <td>187.4909</td>\n",
       "      <td>0.0700</td>\n",
       "    </tr>\n",
       "    <tr>\n",
       "      <th>17</th>\n",
       "      <td>3-2.3</td>\n",
       "      <td>2494.3318</td>\n",
       "      <td>2494.3329</td>\n",
       "      <td>2494.3323</td>\n",
       "      <td>187.4944</td>\n",
       "      <td>0.0700</td>\n",
       "    </tr>\n",
       "  </tbody>\n",
       "</table>\n",
       "</div>"
      ],
      "text/plain": [
       "   ID Messung  Schrägdistanz A -- > B [m]  Schrägdistanz B -- > A [m]  \\\n",
       "0       1-1.1                   2494.3343                   2494.3330   \n",
       "1       1-1.2                   2494.3349                   2494.3330   \n",
       "2       1-1.3                   2494.3351                   2494.3328   \n",
       "3       1-2.1                   2494.3321                   2494.3330   \n",
       "4       1-2.2                   2494.3328                   2494.3336   \n",
       "5       1-2.3                   2494.3328                   2494.3342   \n",
       "6       2-1.1                   2494.3346                   2494.3344   \n",
       "7       2-1.2                   2494.3345                   2494.3340   \n",
       "8       2-1.3                   2494.3343                   2494.3334   \n",
       "9       2-2.1                   2494.3286                   2494.3337   \n",
       "10      2-2.2                   2494.3297                   2494.3342   \n",
       "11      2-2.3                   2494.3294                   2494.3337   \n",
       "12      3-1.1                   2494.3333                   2494.3319   \n",
       "13      3-1.2                   2494.3336                   2494.3319   \n",
       "14      3-1.3                   2494.3335                   2494.3322   \n",
       "15      3-2.1                   2494.3325                   2494.3326   \n",
       "16      3-2.2                   2494.3323                   2494.3325   \n",
       "17      3-2.3                   2494.3318                   2494.3329   \n",
       "\n",
       "    Mittlere Schrägdistanz [m]  Höhendifferenz [m]  Refraktionskoeffizient k  \n",
       "0                    2494.3337            187.5035                    0.0300  \n",
       "1                    2494.3340            187.5023                    0.0300  \n",
       "2                    2494.3340            187.4961                    0.0100  \n",
       "3                    2494.3325            187.4829                    0.1100  \n",
       "4                    2494.3332            187.4874                    0.1000  \n",
       "5                    2494.3335            187.4921                    0.0900  \n",
       "6                    2494.3345            187.5246                   -0.0800  \n",
       "7                    2494.3343            187.4891                   -0.0300  \n",
       "8                    2494.3339            187.4965                   -0.0300  \n",
       "9                    2494.3311            187.4818                    0.1000  \n",
       "10                   2494.3319            187.4658                    0.0600  \n",
       "11                   2494.3315            187.4658                    0.0500  \n",
       "12                   2494.3326            187.5247                    0.0200  \n",
       "13                   2494.3328            187.5270                    0.0100  \n",
       "14                   2494.3329            187.5099                    0.0500  \n",
       "15                   2494.3325            187.4893                    0.0700  \n",
       "16                   2494.3324            187.4909                    0.0700  \n",
       "17                   2494.3323            187.4944                    0.0700  "
      ]
     },
     "execution_count": 12,
     "metadata": {},
     "output_type": "execute_result"
    }
   ],
   "source": [
    "## Import der ersten csv-Datei mit den Messdaten\n",
    "df100 = import_csv(mess1_A2B)\n",
    "\n",
    "## Import der zweiten csv-Datei mit den Messdaten\n",
    "df200 = import_csv(mess2_B2A)\n",
    "\n",
    "## Import der Näherungskoordinaten\n",
    "df_aprox = import_fix(fix)\n",
    "\n",
    "## Höhenberechnung\n",
    "df300_new, infos = master_thb(df100, \n",
    "                              df200, \n",
    "                              df_aprox, \n",
    "                              signalhoehe_A, \n",
    "                              signalhoehe_B, \n",
    "                              offset_A, offset_B)\n",
    "\n",
    "## Test des dfs\n",
    "df300_new"
   ]
  },
  {
   "cell_type": "markdown",
   "id": "b3bd5fd4",
   "metadata": {},
   "source": [
    "### 1.3. Ausgabe (nicht bearbeiten / nur ausführen)"
   ]
  },
  {
   "cell_type": "code",
   "execution_count": 13,
   "id": "905279c5",
   "metadata": {},
   "outputs": [],
   "source": [
    "export_protocol(df300_new, infos, visurnummer, path_protokoll, data)"
   ]
  }
 ],
 "metadata": {
  "kernelspec": {
   "display_name": "5220VP1_GeoSensMonitoring_py310",
   "language": "python",
   "name": "python3"
  },
  "language_info": {
   "codemirror_mode": {
    "name": "ipython",
    "version": 3
   },
   "file_extension": ".py",
   "mimetype": "text/x-python",
   "name": "python",
   "nbconvert_exporter": "python",
   "pygments_lexer": "ipython3",
   "version": "3.10.18"
  }
 },
 "nbformat": 4,
 "nbformat_minor": 5
}
