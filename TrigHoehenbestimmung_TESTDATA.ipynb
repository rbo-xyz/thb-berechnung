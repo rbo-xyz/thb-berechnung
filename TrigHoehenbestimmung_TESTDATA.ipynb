{
 "cells": [
  {
   "cell_type": "markdown",
   "id": "a99e624a",
   "metadata": {},
   "source": [
    "# Trigonometrische Höhenbestimmung\n",
    "## Auswertung Madrisa\n",
    "\n",
    "Mit den Testdaten aus dem ./test_data - Ordner\n",
    "\n",
    "Ein Programm von Kamm M. und Boppart R. (G2023)"
   ]
  },
  {
   "cell_type": "markdown",
   "id": "2510120a",
   "metadata": {},
   "source": [
    "## 1. Einfache Auswertung einer Visur\n"
   ]
  },
  {
   "cell_type": "markdown",
   "id": "3c1dc885",
   "metadata": {},
   "source": [
    "### 1.0. Import\n"
   ]
  },
  {
   "cell_type": "markdown",
   "id": "44eb1edf",
   "metadata": {},
   "source": [
    "Für das Programm sind folgende Python-Bibliotheken zwingend benötigt:\n",
    " - pandas\n",
    " - numpy\n",
    " - tabulate\n",
    "\n",
    "Für das env wird folgendes vorgeschlagen, um die Bibliotheken zu importieren:\n",
    "\n",
    "```py\n",
    "conda create -n thb-auswertung python=3.10 -c conda-forge -y\n",
    "conda install jupyterlab numpy Pandas tabulate -c conda-forge -y\n",
    "```\n",
    "\n",
    "\n",
    "Weitere Informationen können dem readme entnommen werden"
   ]
  },
  {
   "cell_type": "code",
   "execution_count": 1,
   "id": "b95ab900",
   "metadata": {},
   "outputs": [],
   "source": [
    "%load_ext autoreload\n",
    "\n",
    "%autoreload 2"
   ]
  },
  {
   "cell_type": "code",
   "execution_count": 34,
   "id": "117a8a5b",
   "metadata": {},
   "outputs": [],
   "source": [
    "from utils.imports import import_csv, import_fix\n",
    "from utils.calculate import master_thb\n",
    "from utils.exports import export_protocol, export2csv\n",
    "\n",
    "from pathlib import Path\n",
    "\n",
    "## Settings für die Anzeige von DataFrames\n",
    "import pandas as pd\n",
    "pd.set_option(\"display.float_format\", \"{:.4f}\".format)"
   ]
  },
  {
   "cell_type": "markdown",
   "id": "5c014c3c",
   "metadata": {},
   "source": [
    "### 1.1. Setzen der Projektvaribeln"
   ]
  },
  {
   "cell_type": "markdown",
   "id": "c6a811e3",
   "metadata": {},
   "source": [
    "#### 1.1.1. Filepfade"
   ]
  },
  {
   "cell_type": "code",
   "execution_count": 28,
   "id": "e9b1779c",
   "metadata": {},
   "outputs": [],
   "source": [
    "## A ist immer die Station mit der tieferen Punktnummer\n",
    "\n",
    "mess1_A2B = \"./test_data/THB-1009-1003.csv\"\n",
    "mess2_B2A = \"./test_data/THB-1003-1009.csv\"\n",
    "\n",
    "fix = \"./test_data/naehrkoord.txt\"\n",
    "\n",
    "export_folder = Path(\"./test_data\")"
   ]
  },
  {
   "cell_type": "markdown",
   "id": "c9336765",
   "metadata": {},
   "source": [
    "#### 1.1.2. Umgebungsvariabeln"
   ]
  },
  {
   "cell_type": "code",
   "execution_count": 30,
   "id": "3bcf55e9",
   "metadata": {},
   "outputs": [],
   "source": [
    "## Vergabe der Variabeln der Stationen\n",
    "## A ist immer die Station mit der tieferen Punktnummer\n",
    "\n",
    "signalhoehe_A = 1.5\n",
    "offset_A = 0.2882\n",
    "\n",
    "signalhoehe_B = 1.5\n",
    "offset_B = 0.2882\n",
    "\n",
    "visurnummer = \"1003-1009\""
   ]
  },
  {
   "cell_type": "markdown",
   "id": "741c8864",
   "metadata": {},
   "source": [
    "### 1.2. Berechnungen"
   ]
  },
  {
   "cell_type": "code",
   "execution_count": 31,
   "id": "ca59b322",
   "metadata": {},
   "outputs": [
    {
     "data": {
      "application/vnd.microsoft.datawrangler.viewer.v0+json": {
       "columns": [
        {
         "name": "index",
         "rawType": "int64",
         "type": "integer"
        },
        {
         "name": "ID Messung",
         "rawType": "object",
         "type": "string"
        },
        {
         "name": "Schrägdistanz A -- > B [m]",
         "rawType": "float64",
         "type": "float"
        },
        {
         "name": "Schrägdistanz B -- > A [m]",
         "rawType": "float64",
         "type": "float"
        },
        {
         "name": "Mittlere Schrägdistanz [m]",
         "rawType": "float64",
         "type": "float"
        },
        {
         "name": "Höhendifferenz [m]",
         "rawType": "float64",
         "type": "float"
        },
        {
         "name": "Refraktionskoeffizient k",
         "rawType": "float64",
         "type": "float"
        }
       ],
       "ref": "92af5618-18bc-46ba-af39-e625ea9a591b",
       "rows": [
        [
         "0",
         "1-1.1",
         "2494.3327",
         "2494.3358",
         "2494.3343",
         "187.3507",
         "0.01"
        ],
        [
         "1",
         "1-1.2",
         "2494.3327",
         "2494.3364",
         "2494.3346",
         "187.3495",
         "0.0"
        ],
        [
         "2",
         "1-1.3",
         "2494.3325",
         "2494.3366",
         "2494.3346",
         "187.3433",
         "-0.01"
        ],
        [
         "3",
         "1-2.1",
         "2494.3327",
         "2494.3336",
         "2494.3332",
         "187.3301",
         "0.08"
        ],
        [
         "4",
         "1-2.2",
         "2494.3333",
         "2494.3343",
         "2494.3338",
         "187.3346",
         "0.08"
        ],
        [
         "5",
         "1-2.3",
         "2494.3339",
         "2494.3343",
         "2494.3341",
         "187.3393",
         "0.07"
        ],
        [
         "6",
         "2-1.1",
         "2494.3341",
         "2494.3361",
         "2494.3351",
         "187.3718",
         "-0.11"
        ],
        [
         "7",
         "2-1.2",
         "2494.3337",
         "2494.336",
         "2494.3349",
         "187.3363",
         "-0.05"
        ],
        [
         "8",
         "2-1.3",
         "2494.3331",
         "2494.3358",
         "2494.3345",
         "187.3437",
         "-0.05"
        ],
        [
         "9",
         "2-2.1",
         "2494.3334",
         "2494.3301",
         "2494.3318",
         "187.329",
         "0.07"
        ],
        [
         "10",
         "2-2.2",
         "2494.3339",
         "2494.3312",
         "2494.3326",
         "187.313",
         "0.03"
        ],
        [
         "11",
         "2-2.3",
         "2494.3334",
         "2494.3309",
         "2494.3322",
         "187.313",
         "0.02"
        ],
        [
         "12",
         "3-1.1",
         "2494.3317",
         "2494.3348",
         "2494.3332",
         "187.3719",
         "-0.01"
        ],
        [
         "13",
         "3-1.2",
         "2494.3317",
         "2494.3351",
         "2494.3334",
         "187.3742",
         "-0.01"
        ],
        [
         "14",
         "3-1.3",
         "2494.332",
         "2494.335",
         "2494.3335",
         "187.3571",
         "0.02"
        ],
        [
         "15",
         "3-2.1",
         "2494.3323",
         "2494.3341",
         "2494.3332",
         "187.3365",
         "0.05"
        ],
        [
         "16",
         "3-2.2",
         "2494.3322",
         "2494.3339",
         "2494.333",
         "187.3381",
         "0.05"
        ],
        [
         "17",
         "3-2.3",
         "2494.3326",
         "2494.3334",
         "2494.333",
         "187.3416",
         "0.04"
        ]
       ],
       "shape": {
        "columns": 6,
        "rows": 18
       }
      },
      "text/html": [
       "<div>\n",
       "<style scoped>\n",
       "    .dataframe tbody tr th:only-of-type {\n",
       "        vertical-align: middle;\n",
       "    }\n",
       "\n",
       "    .dataframe tbody tr th {\n",
       "        vertical-align: top;\n",
       "    }\n",
       "\n",
       "    .dataframe thead th {\n",
       "        text-align: right;\n",
       "    }\n",
       "</style>\n",
       "<table border=\"1\" class=\"dataframe\">\n",
       "  <thead>\n",
       "    <tr style=\"text-align: right;\">\n",
       "      <th></th>\n",
       "      <th>ID Messung</th>\n",
       "      <th>Schrägdistanz A -- &gt; B [m]</th>\n",
       "      <th>Schrägdistanz B -- &gt; A [m]</th>\n",
       "      <th>Mittlere Schrägdistanz [m]</th>\n",
       "      <th>Höhendifferenz [m]</th>\n",
       "      <th>Refraktionskoeffizient k</th>\n",
       "    </tr>\n",
       "  </thead>\n",
       "  <tbody>\n",
       "    <tr>\n",
       "      <th>0</th>\n",
       "      <td>1-1.1</td>\n",
       "      <td>2494.3327</td>\n",
       "      <td>2494.3358</td>\n",
       "      <td>2494.3343</td>\n",
       "      <td>187.3507</td>\n",
       "      <td>0.0100</td>\n",
       "    </tr>\n",
       "    <tr>\n",
       "      <th>1</th>\n",
       "      <td>1-1.2</td>\n",
       "      <td>2494.3327</td>\n",
       "      <td>2494.3364</td>\n",
       "      <td>2494.3346</td>\n",
       "      <td>187.3495</td>\n",
       "      <td>0.0000</td>\n",
       "    </tr>\n",
       "    <tr>\n",
       "      <th>2</th>\n",
       "      <td>1-1.3</td>\n",
       "      <td>2494.3325</td>\n",
       "      <td>2494.3366</td>\n",
       "      <td>2494.3346</td>\n",
       "      <td>187.3433</td>\n",
       "      <td>-0.0100</td>\n",
       "    </tr>\n",
       "    <tr>\n",
       "      <th>3</th>\n",
       "      <td>1-2.1</td>\n",
       "      <td>2494.3327</td>\n",
       "      <td>2494.3336</td>\n",
       "      <td>2494.3332</td>\n",
       "      <td>187.3301</td>\n",
       "      <td>0.0800</td>\n",
       "    </tr>\n",
       "    <tr>\n",
       "      <th>4</th>\n",
       "      <td>1-2.2</td>\n",
       "      <td>2494.3333</td>\n",
       "      <td>2494.3343</td>\n",
       "      <td>2494.3338</td>\n",
       "      <td>187.3346</td>\n",
       "      <td>0.0800</td>\n",
       "    </tr>\n",
       "    <tr>\n",
       "      <th>5</th>\n",
       "      <td>1-2.3</td>\n",
       "      <td>2494.3339</td>\n",
       "      <td>2494.3343</td>\n",
       "      <td>2494.3341</td>\n",
       "      <td>187.3393</td>\n",
       "      <td>0.0700</td>\n",
       "    </tr>\n",
       "    <tr>\n",
       "      <th>6</th>\n",
       "      <td>2-1.1</td>\n",
       "      <td>2494.3341</td>\n",
       "      <td>2494.3361</td>\n",
       "      <td>2494.3351</td>\n",
       "      <td>187.3718</td>\n",
       "      <td>-0.1100</td>\n",
       "    </tr>\n",
       "    <tr>\n",
       "      <th>7</th>\n",
       "      <td>2-1.2</td>\n",
       "      <td>2494.3337</td>\n",
       "      <td>2494.3360</td>\n",
       "      <td>2494.3349</td>\n",
       "      <td>187.3363</td>\n",
       "      <td>-0.0500</td>\n",
       "    </tr>\n",
       "    <tr>\n",
       "      <th>8</th>\n",
       "      <td>2-1.3</td>\n",
       "      <td>2494.3331</td>\n",
       "      <td>2494.3358</td>\n",
       "      <td>2494.3345</td>\n",
       "      <td>187.3437</td>\n",
       "      <td>-0.0500</td>\n",
       "    </tr>\n",
       "    <tr>\n",
       "      <th>9</th>\n",
       "      <td>2-2.1</td>\n",
       "      <td>2494.3334</td>\n",
       "      <td>2494.3301</td>\n",
       "      <td>2494.3318</td>\n",
       "      <td>187.3290</td>\n",
       "      <td>0.0700</td>\n",
       "    </tr>\n",
       "    <tr>\n",
       "      <th>10</th>\n",
       "      <td>2-2.2</td>\n",
       "      <td>2494.3339</td>\n",
       "      <td>2494.3312</td>\n",
       "      <td>2494.3326</td>\n",
       "      <td>187.3130</td>\n",
       "      <td>0.0300</td>\n",
       "    </tr>\n",
       "    <tr>\n",
       "      <th>11</th>\n",
       "      <td>2-2.3</td>\n",
       "      <td>2494.3334</td>\n",
       "      <td>2494.3309</td>\n",
       "      <td>2494.3322</td>\n",
       "      <td>187.3130</td>\n",
       "      <td>0.0200</td>\n",
       "    </tr>\n",
       "    <tr>\n",
       "      <th>12</th>\n",
       "      <td>3-1.1</td>\n",
       "      <td>2494.3317</td>\n",
       "      <td>2494.3348</td>\n",
       "      <td>2494.3332</td>\n",
       "      <td>187.3719</td>\n",
       "      <td>-0.0100</td>\n",
       "    </tr>\n",
       "    <tr>\n",
       "      <th>13</th>\n",
       "      <td>3-1.2</td>\n",
       "      <td>2494.3317</td>\n",
       "      <td>2494.3351</td>\n",
       "      <td>2494.3334</td>\n",
       "      <td>187.3742</td>\n",
       "      <td>-0.0100</td>\n",
       "    </tr>\n",
       "    <tr>\n",
       "      <th>14</th>\n",
       "      <td>3-1.3</td>\n",
       "      <td>2494.3320</td>\n",
       "      <td>2494.3350</td>\n",
       "      <td>2494.3335</td>\n",
       "      <td>187.3571</td>\n",
       "      <td>0.0200</td>\n",
       "    </tr>\n",
       "    <tr>\n",
       "      <th>15</th>\n",
       "      <td>3-2.1</td>\n",
       "      <td>2494.3323</td>\n",
       "      <td>2494.3341</td>\n",
       "      <td>2494.3332</td>\n",
       "      <td>187.3365</td>\n",
       "      <td>0.0500</td>\n",
       "    </tr>\n",
       "    <tr>\n",
       "      <th>16</th>\n",
       "      <td>3-2.2</td>\n",
       "      <td>2494.3322</td>\n",
       "      <td>2494.3339</td>\n",
       "      <td>2494.3330</td>\n",
       "      <td>187.3381</td>\n",
       "      <td>0.0500</td>\n",
       "    </tr>\n",
       "    <tr>\n",
       "      <th>17</th>\n",
       "      <td>3-2.3</td>\n",
       "      <td>2494.3326</td>\n",
       "      <td>2494.3334</td>\n",
       "      <td>2494.3330</td>\n",
       "      <td>187.3416</td>\n",
       "      <td>0.0400</td>\n",
       "    </tr>\n",
       "  </tbody>\n",
       "</table>\n",
       "</div>"
      ],
      "text/plain": [
       "   ID Messung  Schrägdistanz A -- > B [m]  Schrägdistanz B -- > A [m]  \\\n",
       "0       1-1.1                   2494.3327                   2494.3358   \n",
       "1       1-1.2                   2494.3327                   2494.3364   \n",
       "2       1-1.3                   2494.3325                   2494.3366   \n",
       "3       1-2.1                   2494.3327                   2494.3336   \n",
       "4       1-2.2                   2494.3333                   2494.3343   \n",
       "5       1-2.3                   2494.3339                   2494.3343   \n",
       "6       2-1.1                   2494.3341                   2494.3361   \n",
       "7       2-1.2                   2494.3337                   2494.3360   \n",
       "8       2-1.3                   2494.3331                   2494.3358   \n",
       "9       2-2.1                   2494.3334                   2494.3301   \n",
       "10      2-2.2                   2494.3339                   2494.3312   \n",
       "11      2-2.3                   2494.3334                   2494.3309   \n",
       "12      3-1.1                   2494.3317                   2494.3348   \n",
       "13      3-1.2                   2494.3317                   2494.3351   \n",
       "14      3-1.3                   2494.3320                   2494.3350   \n",
       "15      3-2.1                   2494.3323                   2494.3341   \n",
       "16      3-2.2                   2494.3322                   2494.3339   \n",
       "17      3-2.3                   2494.3326                   2494.3334   \n",
       "\n",
       "    Mittlere Schrägdistanz [m]  Höhendifferenz [m]  Refraktionskoeffizient k  \n",
       "0                    2494.3343            187.3507                    0.0100  \n",
       "1                    2494.3346            187.3495                    0.0000  \n",
       "2                    2494.3346            187.3433                   -0.0100  \n",
       "3                    2494.3332            187.3301                    0.0800  \n",
       "4                    2494.3338            187.3346                    0.0800  \n",
       "5                    2494.3341            187.3393                    0.0700  \n",
       "6                    2494.3351            187.3718                   -0.1100  \n",
       "7                    2494.3349            187.3363                   -0.0500  \n",
       "8                    2494.3345            187.3437                   -0.0500  \n",
       "9                    2494.3318            187.3290                    0.0700  \n",
       "10                   2494.3326            187.3130                    0.0300  \n",
       "11                   2494.3322            187.3130                    0.0200  \n",
       "12                   2494.3332            187.3719                   -0.0100  \n",
       "13                   2494.3334            187.3742                   -0.0100  \n",
       "14                   2494.3335            187.3571                    0.0200  \n",
       "15                   2494.3332            187.3365                    0.0500  \n",
       "16                   2494.3330            187.3381                    0.0500  \n",
       "17                   2494.3330            187.3416                    0.0400  "
      ]
     },
     "execution_count": 31,
     "metadata": {},
     "output_type": "execute_result"
    }
   ],
   "source": [
    "## Erstellung der Liste der Basisdaten\n",
    "data = [signalhoehe_A, offset_A, signalhoehe_B, offset_B]\n",
    "\n",
    "## Import der ersten csv-Datei mit den Messdaten\n",
    "df100 = import_csv(mess1_A2B)\n",
    "\n",
    "## Import der zweiten csv-Datei mit den Messdaten\n",
    "df200 = import_csv(mess2_B2A)\n",
    "\n",
    "## Import der Näherungskoordinaten\n",
    "df_aprox = import_fix(fix)\n",
    "\n",
    "## Höhenberechnung\n",
    "df300_new, infos = master_thb(df100, \n",
    "                              df200, \n",
    "                              df_aprox, \n",
    "                              signalhoehe_A, \n",
    "                              signalhoehe_B, \n",
    "                              offset_A, offset_B)\n",
    "\n",
    "## DataFrame mit den Ergebnissen\n",
    "df300_new"
   ]
  },
  {
   "cell_type": "markdown",
   "id": "b3bd5fd4",
   "metadata": {},
   "source": [
    "### 1.3. Ausgabe"
   ]
  },
  {
   "cell_type": "code",
   "execution_count": 32,
   "id": "905279c5",
   "metadata": {},
   "outputs": [],
   "source": [
    "export_protocol(df300_new, infos, visurnummer, export_folder, data)"
   ]
  },
  {
   "cell_type": "code",
   "execution_count": 39,
   "id": "abd91655",
   "metadata": {},
   "outputs": [],
   "source": [
    "export2csv(df300_new, infos, visurnummer, export_folder, data)"
   ]
  }
 ],
 "metadata": {
  "kernelspec": {
   "display_name": "5220VP1_GeoSensMonitoring_py310",
   "language": "python",
   "name": "python3"
  },
  "language_info": {
   "codemirror_mode": {
    "name": "ipython",
    "version": 3
   },
   "file_extension": ".py",
   "mimetype": "text/x-python",
   "name": "python",
   "nbconvert_exporter": "python",
   "pygments_lexer": "ipython3",
   "version": "3.10.18"
  }
 },
 "nbformat": 4,
 "nbformat_minor": 5
}
