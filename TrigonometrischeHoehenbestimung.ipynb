{
 "cells": [
  {
   "cell_type": "markdown",
   "id": "a99e624a",
   "metadata": {},
   "source": [
    "# Trigonometrische Höhenbestimmung\n",
    "### Auswertung Madrisa\n",
    "\n",
    "Ein Programm von Kamm M. und Boppart R. (G2023)"
   ]
  },
  {
   "cell_type": "markdown",
   "id": "5c014c3c",
   "metadata": {},
   "source": [
    "#### 1. Import der Grundlagedaten"
   ]
  },
  {
   "cell_type": "markdown",
   "id": "3ac2930b",
   "metadata": {},
   "source": [
    "#### 2. Filtern der Daten"
   ]
  },
  {
   "cell_type": "markdown",
   "id": "04a574ba",
   "metadata": {},
   "source": [
    "#### 3. Berechnung"
   ]
  },
  {
   "cell_type": "markdown",
   "id": "b3bd5fd4",
   "metadata": {},
   "source": [
    "#### 4. Ausgabe"
   ]
  },
  {
   "cell_type": "code",
   "execution_count": null,
   "id": "541008c8",
   "metadata": {},
   "outputs": [],
   "source": [
    "from math import *\n",
    "\n",
    "\n",
    "def gon2rad(gon):\n",
    "    return gon * pi / 200.0\n",
    "\n",
    "def rad2gon(rad):\n",
    "    return rad * 200.0 / pi\n",
    "\n",
    "def korr_lotabw(xi, eta, azi, v_angle):\n",
    "    v_angle = gon2rad(azi) # gon to rad\n",
    "    azi = gon2rad(azi) # gon to rad\n",
    "    theta_v = xi * cos(azi) + eta * sin(azi) # Berechnung der Lotabweichung in laengsrichtung aus xi und eta\n",
    "    v_angle_korr = v_angle + theta_v # Korrektur des Azimuts um Theta laengs\n",
    "    v_angle_korr = rad2gon(v_angle_korr) # rad to gon\n",
    "\n",
    "    return v_angle_korr\n",
    "\n",
    "\n",
    "def korr_kippachse(dist_ab,offset_b, v_angle_korr):\n",
    "    azi_korr = gon2rad(v_angle_korr) # gon to rad\n",
    "    dist_korr = sqrt(offset_b**2 + dist_ab**2 - 2*offset_b*dist_ab-cos(v_angle_korr)) # Berechnung der korrigierten Distanz aufgrund des speziellen Prismamounts (mit cosinussatz)\n",
    "    beta_ab = acos((dist_ab**2+dist_korr**2-offset_b**2)/2*dist_ab*dist_korr) # Berechnung des Winkels Beta zwischen der gemessenen Distanz und der Korrekturdistanz\n",
    "    v_angle_korr_korr = v_angle_korr + beta_ab # Korrektur des Azimuts um Beta\n",
    "    v_angle_korr_korr = rad2gon(v_angle_korr_korr) # rad to gon\n",
    "\n",
    "    return dist_korr, v_angle_korr_korr\n",
    "\n",
    "def cool (x):\n",
    "    return f\"de boppi und de michi sind {x}\""
   ]
  },
  {
   "cell_type": "code",
   "execution_count": null,
   "id": "905279c5",
   "metadata": {},
   "outputs": [],
   "source": []
  }
 ],
 "metadata": {
  "kernelspec": {
   "display_name": "3030_GSA",
   "language": "python",
   "name": "python3"
  },
  "language_info": {
   "name": "python",
   "version": "3.12.5"
  }
 },
 "nbformat": 4,
 "nbformat_minor": 5
}
