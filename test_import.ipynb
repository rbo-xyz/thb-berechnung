{
 "cells": [
  {
   "cell_type": "code",
   "execution_count": 1,
   "id": "79539083",
   "metadata": {},
   "outputs": [
    {
     "data": {
      "application/vnd.microsoft.datawrangler.viewer.v0+json": {
       "columns": [
        {
         "name": "index",
         "rawType": "int64",
         "type": "integer"
        },
        {
         "name": "Nr",
         "rawType": "int64",
         "type": "integer"
        },
        {
         "name": "ID",
         "rawType": "object",
         "type": "string"
        },
        {
         "name": "signal_A",
         "rawType": "float64",
         "type": "float"
        },
        {
         "name": "offset_A",
         "rawType": "float64",
         "type": "float"
        },
        {
         "name": "signal_B",
         "rawType": "float64",
         "type": "float"
        },
        {
         "name": "offset_B",
         "rawType": "float64",
         "type": "float"
        }
       ],
       "ref": "8bc2139e-2c00-4919-9a5b-33d5113f24e3",
       "rows": [
        [
         "0",
         "0",
         "Visur_1003-1009",
         "1.6804",
         "0.2682",
         "1.8494",
         "0.2844"
        ],
        [
         "1",
         "1",
         "Visur_1003-1013",
         "1.6804",
         "0.2682",
         "2.0122",
         "0.2844"
        ],
        [
         "2",
         "2",
         "Visur_1009-1010",
         "1.8458",
         "0.2844",
         "1.835",
         "0.2844"
        ],
        [
         "3",
         "3",
         "Visur_1009-1011",
         "1.8458",
         "0.2844",
         "1.7844",
         "0.2682"
        ],
        [
         "4",
         "4",
         "Visur_1009-1014",
         "1.8494",
         "0.2844",
         "1.5422",
         "0.2844"
        ],
        [
         "5",
         "5",
         "Visur_1010-1011",
         "1.835",
         "0.2844",
         "1.7834",
         "0.2682"
        ],
        [
         "6",
         "6",
         "Visur_1010-1012",
         "1.835",
         "0.2844",
         "1.6171",
         "0.2844"
        ],
        [
         "7",
         "7",
         "Visur_1010-1015",
         "1.7479",
         "0.2844",
         "1.9602",
         "0.2844"
        ],
        [
         "8",
         "8",
         "Visur_1010-1012",
         "1.7834",
         "0.2682",
         "1.6171",
         "0.2844"
        ],
        [
         "9",
         "9",
         "Visur_1011-1014",
         "1.7834",
         "0.2682",
         "1.8616",
         "0.2844"
        ],
        [
         "10",
         "10",
         "Visur_1013-11773210",
         "2.0122",
         "0.2844",
         "1.9384",
         "0.2844"
        ],
        [
         "11",
         "11",
         "Visur_1015-11773210",
         "2.0122",
         "0.2844",
         "1.9602",
         "0.2844"
        ]
       ],
       "shape": {
        "columns": 6,
        "rows": 12
       }
      },
      "text/html": [
       "<div>\n",
       "<style scoped>\n",
       "    .dataframe tbody tr th:only-of-type {\n",
       "        vertical-align: middle;\n",
       "    }\n",
       "\n",
       "    .dataframe tbody tr th {\n",
       "        vertical-align: top;\n",
       "    }\n",
       "\n",
       "    .dataframe thead th {\n",
       "        text-align: right;\n",
       "    }\n",
       "</style>\n",
       "<table border=\"1\" class=\"dataframe\">\n",
       "  <thead>\n",
       "    <tr style=\"text-align: right;\">\n",
       "      <th></th>\n",
       "      <th>Nr</th>\n",
       "      <th>ID</th>\n",
       "      <th>signal_A</th>\n",
       "      <th>offset_A</th>\n",
       "      <th>signal_B</th>\n",
       "      <th>offset_B</th>\n",
       "    </tr>\n",
       "  </thead>\n",
       "  <tbody>\n",
       "    <tr>\n",
       "      <th>0</th>\n",
       "      <td>0</td>\n",
       "      <td>Visur_1003-1009</td>\n",
       "      <td>1.6804</td>\n",
       "      <td>0.2682</td>\n",
       "      <td>1.8494</td>\n",
       "      <td>0.2844</td>\n",
       "    </tr>\n",
       "    <tr>\n",
       "      <th>1</th>\n",
       "      <td>1</td>\n",
       "      <td>Visur_1003-1013</td>\n",
       "      <td>1.6804</td>\n",
       "      <td>0.2682</td>\n",
       "      <td>2.0122</td>\n",
       "      <td>0.2844</td>\n",
       "    </tr>\n",
       "    <tr>\n",
       "      <th>2</th>\n",
       "      <td>2</td>\n",
       "      <td>Visur_1009-1010</td>\n",
       "      <td>1.8458</td>\n",
       "      <td>0.2844</td>\n",
       "      <td>1.8350</td>\n",
       "      <td>0.2844</td>\n",
       "    </tr>\n",
       "    <tr>\n",
       "      <th>3</th>\n",
       "      <td>3</td>\n",
       "      <td>Visur_1009-1011</td>\n",
       "      <td>1.8458</td>\n",
       "      <td>0.2844</td>\n",
       "      <td>1.7844</td>\n",
       "      <td>0.2682</td>\n",
       "    </tr>\n",
       "    <tr>\n",
       "      <th>4</th>\n",
       "      <td>4</td>\n",
       "      <td>Visur_1009-1014</td>\n",
       "      <td>1.8494</td>\n",
       "      <td>0.2844</td>\n",
       "      <td>1.5422</td>\n",
       "      <td>0.2844</td>\n",
       "    </tr>\n",
       "    <tr>\n",
       "      <th>5</th>\n",
       "      <td>5</td>\n",
       "      <td>Visur_1010-1011</td>\n",
       "      <td>1.8350</td>\n",
       "      <td>0.2844</td>\n",
       "      <td>1.7834</td>\n",
       "      <td>0.2682</td>\n",
       "    </tr>\n",
       "    <tr>\n",
       "      <th>6</th>\n",
       "      <td>6</td>\n",
       "      <td>Visur_1010-1012</td>\n",
       "      <td>1.8350</td>\n",
       "      <td>0.2844</td>\n",
       "      <td>1.6171</td>\n",
       "      <td>0.2844</td>\n",
       "    </tr>\n",
       "    <tr>\n",
       "      <th>7</th>\n",
       "      <td>7</td>\n",
       "      <td>Visur_1010-1015</td>\n",
       "      <td>1.7479</td>\n",
       "      <td>0.2844</td>\n",
       "      <td>1.9602</td>\n",
       "      <td>0.2844</td>\n",
       "    </tr>\n",
       "    <tr>\n",
       "      <th>8</th>\n",
       "      <td>8</td>\n",
       "      <td>Visur_1010-1012</td>\n",
       "      <td>1.7834</td>\n",
       "      <td>0.2682</td>\n",
       "      <td>1.6171</td>\n",
       "      <td>0.2844</td>\n",
       "    </tr>\n",
       "    <tr>\n",
       "      <th>9</th>\n",
       "      <td>9</td>\n",
       "      <td>Visur_1011-1014</td>\n",
       "      <td>1.7834</td>\n",
       "      <td>0.2682</td>\n",
       "      <td>1.8616</td>\n",
       "      <td>0.2844</td>\n",
       "    </tr>\n",
       "    <tr>\n",
       "      <th>10</th>\n",
       "      <td>10</td>\n",
       "      <td>Visur_1013-11773210</td>\n",
       "      <td>2.0122</td>\n",
       "      <td>0.2844</td>\n",
       "      <td>1.9384</td>\n",
       "      <td>0.2844</td>\n",
       "    </tr>\n",
       "    <tr>\n",
       "      <th>11</th>\n",
       "      <td>11</td>\n",
       "      <td>Visur_1015-11773210</td>\n",
       "      <td>2.0122</td>\n",
       "      <td>0.2844</td>\n",
       "      <td>1.9602</td>\n",
       "      <td>0.2844</td>\n",
       "    </tr>\n",
       "  </tbody>\n",
       "</table>\n",
       "</div>"
      ],
      "text/plain": [
       "    Nr                   ID  signal_A  offset_A  signal_B  offset_B\n",
       "0    0      Visur_1003-1009    1.6804    0.2682    1.8494    0.2844\n",
       "1    1      Visur_1003-1013    1.6804    0.2682    2.0122    0.2844\n",
       "2    2      Visur_1009-1010    1.8458    0.2844    1.8350    0.2844\n",
       "3    3      Visur_1009-1011    1.8458    0.2844    1.7844    0.2682\n",
       "4    4      Visur_1009-1014    1.8494    0.2844    1.5422    0.2844\n",
       "5    5      Visur_1010-1011    1.8350    0.2844    1.7834    0.2682\n",
       "6    6      Visur_1010-1012    1.8350    0.2844    1.6171    0.2844\n",
       "7    7      Visur_1010-1015    1.7479    0.2844    1.9602    0.2844\n",
       "8    8      Visur_1010-1012    1.7834    0.2682    1.6171    0.2844\n",
       "9    9      Visur_1011-1014    1.7834    0.2682    1.8616    0.2844\n",
       "10  10  Visur_1013-11773210    2.0122    0.2844    1.9384    0.2844\n",
       "11  11  Visur_1015-11773210    2.0122    0.2844    1.9602    0.2844"
      ]
     },
     "execution_count": 1,
     "metadata": {},
     "output_type": "execute_result"
    }
   ],
   "source": [
    "import pandas as pd\n",
    "\n",
    "file_path = \"./test_data/20250918_InstrHoehe.csv\"\n",
    "\n",
    "df = pd.read_csv(file_path, delimiter=\";\", encoding=\"mbcs\")\n",
    "\n",
    "df"
   ]
  },
  {
   "cell_type": "code",
   "execution_count": 3,
   "id": "c4fdbe33",
   "metadata": {},
   "outputs": [
    {
     "name": "stdout",
     "output_type": "stream",
     "text": [
      "1.6804 0.2682 1.8494 0.2844\n"
     ]
    }
   ],
   "source": [
    "index = 0\n",
    "\n",
    "df_new = df[df[\"Nr\"] == index] \n",
    "\n",
    "df_new\n",
    "\n",
    "signal_a = df_new[\"signal_A\"].values[0]\n",
    "offset_a = df_new[\"offset_A\"].values[0]\n",
    "signal_b = df_new[\"signal_B\"].values[0]\n",
    "offset_b = df_new[\"offset_B\"].values[0]\n",
    "\n",
    "print(signal_a, offset_a, signal_b, offset_b)"
   ]
  }
 ],
 "metadata": {
  "kernelspec": {
   "display_name": "5220VP1_GeoSensMonitoring_py310",
   "language": "python",
   "name": "python3"
  },
  "language_info": {
   "codemirror_mode": {
    "name": "ipython",
    "version": 3
   },
   "file_extension": ".py",
   "mimetype": "text/x-python",
   "name": "python",
   "nbconvert_exporter": "python",
   "pygments_lexer": "ipython3",
   "version": "3.10.18"
  }
 },
 "nbformat": 4,
 "nbformat_minor": 5
}
