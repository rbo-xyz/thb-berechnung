{
 "cells": [
  {
   "cell_type": "code",
   "execution_count": null,
   "id": "541008c8",
   "metadata": {},
   "outputs": [],
   "source": [
    "def Korr_Lotabw(xi, eta, azi):\n",
    "    D_AB = D_AB_Roh * 1.1  # Beispielhafte Berechnung\n",
    "    D_BA = D_BA_Roh * 1.1  # Beispielhafte Berechnung\n",
    "    return D_AB, D_BA"
   ]
  }
 ],
 "metadata": {
  "kernelspec": {
   "display_name": "3030_GSA",
   "language": "python",
   "name": "python3"
  },
  "language_info": {
   "name": "python",
   "version": "3.12.5"
  }
 },
 "nbformat": 4,
 "nbformat_minor": 5
}
